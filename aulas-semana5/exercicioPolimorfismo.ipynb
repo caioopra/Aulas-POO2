{
 "cells": [
  {
   "cell_type": "code",
   "execution_count": 4,
   "metadata": {},
   "outputs": [
    {
     "name": "stdout",
     "output_type": "stream",
     "text": [
      "Barco, possui 4 metros de altura e 10 de comprimento. Com 20km/h de velocidade maxima e carga maxima de 5 toneladas. Possui 10 metros de boca e 20 metros de calado.\n"
     ]
    }
   ],
   "source": [
    "from abc import ABC, abstractmethod\n",
    "\n",
    "\n",
    "class Transporte(ABC):\n",
    "    def __init__(self, nome, altura, comprimento, carga, velocidade):\n",
    "        self.__nome = nome\n",
    "        self.__altura = altura\n",
    "        self.__comprimento = comprimento\n",
    "        self.__carga = carga\n",
    "        self.__velocidade = velocidade\n",
    "\n",
    "    def descricaoGenerica(self):\n",
    "        return f\"{self.__nome}, possui {self.__altura} metros de altura e {self.__comprimento} de comprimento. Com {self.__velocidade}km/h de velocidade maxima e carga maxima de {self.__carga} toneladas. \"\n",
    "\n",
    "\n",
    "class TransporteAreo(Transporte):\n",
    "    def __init__(self, nome, altura, comprimento, carga, velocidade, autonomia, envergadura):\n",
    "        super().__init__(nome, altura, comprimento, carga, velocidade)\n",
    "        self.__autonomia = autonomia\n",
    "        self.__envergadura = envergadura\n",
    "\n",
    "    def descricao(self) -> str:\n",
    "        return super().descricaoGenerica() + f\"Possui {self.__autonomia} km de autonomia e {self.__envergadura} metros de envergadura.\"\n",
    "\n",
    "\n",
    "class TransporteTerrestre(Transporte):\n",
    "    def __init__(self, nome, altura, comprimento, carga, velocidade, motor, rodas):\n",
    "        super().__init__(nome, altura, comprimento, carga, velocidade)\n",
    "        self.__motor = motor\n",
    "        self.__rodas = rodas\n",
    "\n",
    "    def descricao(self) -> str:\n",
    "        return super().descricaoGenerica() + f\"Possui motor {self.__motor} e rodas {self.__rodas}.\"\n",
    "\n",
    "\n",
    "class TransporteAquatico(Transporte):\n",
    "    def __init__(self, nome, altura, comprimento, carga, velocidade, boca, calado):\n",
    "        super().__init__(nome, altura, comprimento, carga, velocidade)\n",
    "        self.__boca = boca\n",
    "        self.__calado = calado\n",
    "\n",
    "    def descricao(self) -> str:\n",
    "        return super().descricaoGenerica() + f\"Possui {self.__boca} metros de boca e {self.__calado} metros de calado.\"\n",
    "\n",
    "\n",
    "class Catalogo:\n",
    "    def __init__(self):\n",
    "        self.__listaTransportes = []\n",
    "\n",
    "    def inserirTransporte(self, transporte: Transporte):\n",
    "        if isinstance(transporte, Transporte):\n",
    "            self.__listaTransportes.append(transporte)\n",
    "        else:\n",
    "            print(\"Transporte inválido\")\n",
    "\n",
    "    def apresentacao(self):\n",
    "        for transporte in self.__listaTransportes:\n",
    "            print(transporte.descricao())\n",
    "\n",
    "\n",
    "transporte = TransporteAquatico(\"Barco\", 4, 10, 5, 20, 10, 20)\n",
    "\n",
    "catalogo = Catalogo()\n",
    "catalogo.inserirTransporte(transporte)\n",
    "catalogo.apresentacao()\n"
   ]
  }
 ],
 "metadata": {
  "interpreter": {
   "hash": "26de051ba29f2982a8de78e945f0abaf191376122a1563185a90213a26c5da77"
  },
  "kernelspec": {
   "display_name": "Python 3.10.0 64-bit",
   "language": "python",
   "name": "python3"
  },
  "language_info": {
   "codemirror_mode": {
    "name": "ipython",
    "version": 3
   },
   "file_extension": ".py",
   "mimetype": "text/x-python",
   "name": "python",
   "nbconvert_exporter": "python",
   "pygments_lexer": "ipython3",
   "version": "3.10.0"
  },
  "orig_nbformat": 4
 },
 "nbformat": 4,
 "nbformat_minor": 2
}
