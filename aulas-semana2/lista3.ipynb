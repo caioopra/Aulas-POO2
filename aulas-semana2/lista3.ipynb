{
 "cells": [
  {
   "cell_type": "code",
   "execution_count": null,
   "metadata": {},
   "outputs": [],
   "source": [
    "# exercicio 1"
   ]
  },
  {
   "cell_type": "code",
   "execution_count": 6,
   "metadata": {},
   "outputs": [
    {
     "name": "stdout",
     "output_type": "stream",
     "text": [
      "Valor inválido!\n",
      "Média de Caio: 8.25\n",
      "Média de Maria: 9.5\n"
     ]
    }
   ],
   "source": [
    "# exercicio 3\n",
    "def calcular_media(nome):\n",
    "    notas = dicionario_alunos[nome]\n",
    "\n",
    "    soma = 0\n",
    "    for nota in notas:\n",
    "        soma += nota\n",
    "\n",
    "    return round((soma / len(notas)), 2)\n",
    "\n",
    "\n",
    "dicionario_alunos = dict()\n",
    "# leitura de dados\n",
    "while True:\n",
    "    try:\n",
    "        nome_aluno = input(\"Nome: \").strip()\n",
    "        if nome_aluno == \"\":\n",
    "            break\n",
    "        nota1, nota2 = [float(x) for x in input(\n",
    "            \"Digite as duas notas [nota1 nota2]: \").split()]\n",
    "\n",
    "        dicionario_alunos[nome_aluno] = nota1, nota2\n",
    "    except ValueError:\n",
    "        print(\"Valor inválido!\")\n",
    "\n",
    "# caso string vazia for lida, encerra o programa\n",
    "while True:\n",
    "    aluno = input(\"Nome do aluno para calcular a media: \").strip()\n",
    "    if aluno == \"\":\n",
    "        break\n",
    "    elif aluno not in dicionario_alunos.keys():\n",
    "        print(\"Aluno não encontrado\")\n",
    "\n",
    "    print(f\"Média de {aluno}: {calcular_media(aluno)}\")\n"
   ]
  },
  {
   "cell_type": "code",
   "execution_count": null,
   "metadata": {},
   "outputs": [],
   "source": [
    "# exercicio 4"
   ]
  },
  {
   "cell_type": "code",
   "execution_count": null,
   "metadata": {},
   "outputs": [],
   "source": [
    "# exercicio 6"
   ]
  },
  {
   "cell_type": "code",
   "execution_count": null,
   "metadata": {},
   "outputs": [],
   "source": [
    "# exercicio"
   ]
  }
 ],
 "metadata": {
  "interpreter": {
   "hash": "26de051ba29f2982a8de78e945f0abaf191376122a1563185a90213a26c5da77"
  },
  "kernelspec": {
   "display_name": "Python 3.10.0 64-bit",
   "language": "python",
   "name": "python3"
  },
  "language_info": {
   "codemirror_mode": {
    "name": "ipython",
    "version": 3
   },
   "file_extension": ".py",
   "mimetype": "text/x-python",
   "name": "python",
   "nbconvert_exporter": "python",
   "pygments_lexer": "ipython3",
   "version": "3.10.0"
  },
  "orig_nbformat": 4
 },
 "nbformat": 4,
 "nbformat_minor": 2
}
