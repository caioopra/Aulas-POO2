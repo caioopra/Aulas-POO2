{
 "cells": [
  {
   "cell_type": "code",
   "execution_count": 11,
   "metadata": {},
   "outputs": [
    {
     "name": "stdout",
     "output_type": "stream",
     "text": [
      "{'escreva': 5, 'uma': 8, 'funcao': 2, 'que': 8, 'conta': 1, 'a': 16, 'frequencia': 1, 'de': 12, 'ocorrencia': 1, 'cada': 4, 'palavra': 1, 'em': 7, 'um': 13, 'texto': 1, 'arquivo': 1, 'txt': 1, 'e': 15, 'armazena': 2, 'tal': 1, 'quantidade': 1, 'onde': 3, 'chave': 6, 'vogal': 1, 'programa': 4, 'le': 1, 'duas': 3, 'notas': 2, 'varios': 1, 'alunos': 1, 'tais': 1, 'o': 6, 'nome': 3, 'do': 4, 'entrada': 1, 'dados': 1, 'deve': 3, 'terminar': 1, 'quando': 1, 'for': 1, 'lida': 1, 'string': 2, 'vazia': 1, 'como': 1, 'retorna': 3, 'media': 2, 'dado': 1, 'seu': 2, 'pista': 1, 'kart': 1, 'permite': 1, 'voltas': 1, 'para': 5, 'leia': 1, 'todos': 1, 'os': 2, 'tempos': 1, 'segundos': 1, 'guarde': 1, 'ao': 1, 'final': 2, 'diga': 1, 'quem': 1, 'foi': 1, 'melhor': 1, 'volta': 2, 'da': 2, 'prova': 1, 'ainda': 1, 'classificacao': 1, 'ordem': 1, 'campeao': 1, 'tem': 1, 'menor': 1, 'armazenar': 1, 'agenda': 1, 'telefones': 2, 'usando': 2, 'pessoa': 1, 'pode': 2, 'ter': 2, 'ou': 1, 'mais': 1, 'dicionario': 4, 'completo': 1, 'as': 1, 'seguintes': 1, 'criar': 1, 'frozensets': 1, 'com': 1, 'numeros': 1, 'aleatorios': 1, 'construir': 1, 'contenha': 2, 'soma': 1, 'deles': 1, 'mplemente': 1, 'classe': 2, 'meudicionario': 1, 'ser': 2, 'possivel': 1, 'remover': 1, 'acessar': 1, 'elementos': 1, 'no': 4, 'magic': 1, 'alem': 1, 'verificar': 1, 'se': 1, 'valor': 1, 'caso': 2, 'contrario': 1, 'crie': 1, 'matrizesparsa': 1, 'construida': 1, 'das': 1, 'formas': 1, 'metodos': 1, 'mostrar': 1, 'matriz': 1, 'formato': 2, 'tambem': 1}\n"
     ]
    }
   ],
   "source": [
    "# exercicio 1\n",
    "arquivo = open(\"exercicio1.txt\", \"r\")\n",
    "\n",
    "dict_palavras = {}\n",
    "\n",
    "for linha in arquivo:\n",
    "    for palavra in linha.split():\n",
    "        palavra = palavra.lower()\n",
    "        if palavra.isalpha():\n",
    "            if palavra not in dict_palavras:\n",
    "                dict_palavras[palavra] = 1\n",
    "            else:\n",
    "                dict_palavras[palavra] += 1\n",
    "            \n",
    "print(dict_palavras)\n",
    "            \n",
    "arquivo.close()               \n"
   ]
  },
  {
   "cell_type": "code",
   "execution_count": 6,
   "metadata": {},
   "outputs": [
    {
     "name": "stdout",
     "output_type": "stream",
     "text": [
      "Valor inválido!\n",
      "Média de Caio: 8.25\n",
      "Média de Maria: 9.5\n"
     ]
    }
   ],
   "source": [
    "# exercicio 3\n",
    "def calcular_media(nome):\n",
    "    notas = dicionario_alunos[nome]\n",
    "    \n",
    "    soma = 0\n",
    "    for nota in notas:\n",
    "        soma += nota\n",
    "\n",
    "    return round((soma / len(notas)), 2)\n",
    "\n",
    "\n",
    "dicionario_alunos = dict()\n",
    "# leitura de dados\n",
    "while True:\n",
    "    try:\n",
    "        nome_aluno = input(\"Nome: \").strip()\n",
    "        if nome_aluno == \"\":\n",
    "            break\n",
    "        nota1, nota2 = [float(x) for x in input(\n",
    "            \"Digite as duas notas [nota1 nota2]: \").split()]\n",
    "\n",
    "        dicionario_alunos[nome_aluno] = nota1, nota2\n",
    "    except ValueError:\n",
    "        print(\"Valor inválido!\")\n",
    "\n",
    "# caso string vazia for lida, encerra o programa\n",
    "while True:\n",
    "    aluno = input(\"Nome do aluno para calcular a media: \").strip()\n",
    "    if aluno == \"\":\n",
    "        break\n",
    "    elif aluno not in dicionario_alunos.keys():\n",
    "        print(\"Aluno não encontrado\")\n",
    "\n",
    "    print(f\"Média de {aluno}: {calcular_media(aluno)}\")\n"
   ]
  },
  {
   "cell_type": "code",
   "execution_count": 22,
   "metadata": {},
   "outputs": [
    {
     "name": "stdout",
     "output_type": "stream",
     "text": [
      "----RESULTADOS DA CORRIDA----\n",
      "-Melhor volta:\n",
      " a b c d e f\n",
      " 33.1 segundos\n",
      " Volta 3\n",
      "-Classificacao por media de tempo: \n",
      " -> a: 37.7s\n",
      " -> b: 37.7s\n",
      " -> c: 37.7s\n",
      " -> d: 37.7s\n",
      " -> e: 37.7s\n",
      " -> f: 37.7s\n"
     ]
    }
   ],
   "source": [
    "# exercicio 4\n",
    "# tempo1: 40.4 40.0 43.1 39.4 37 38.8 44.1 44.1 34.9 36.4\n",
    "# tempo2: 44.4 38.3 33.1 39.3 37 38.8 37.1 39.1 33.9 36.3\n",
    "# tempo3: 44.4 58.3 53.1 59.3 57 58.8 57.1 59.1 53.9 56.3\n",
    "# tempo4: 44.9 34.3 33.1 39.3 37 34.9 37.1 39.1 33.9 36.4\n",
    "# tempo5: 34.9 34.3 33.1 35.3 37 34.9 37.1 39.1 33.9 36.4\n",
    "# tempo4: 44.9 24.3 23.1 29.3 27 24.9 27.1 29.1 23.9 26.4\n",
    "\n",
    "corredores = []\n",
    "while len(corredores) != 6:\n",
    "    corredor = input(\"Nome do corredor: \").strip()\n",
    "    if corredor != \"\":\n",
    "        corredores.append(corredor)\n",
    "\n",
    "dict_corrida = {}\n",
    "for i in range(len(corredores)):\n",
    "    tempos = []\n",
    "    while len(tempos) != 10:\n",
    "        tempos = [float(x) for x in input(\"Tempos do corredor: \").split()]\n",
    "    \n",
    "    dict_corrida[corredores[i]] = tempos.copy()\n",
    "\n",
    "melhor_tempo = 0\n",
    "volta_melhor_tempo = 0\n",
    "corredor_melhor_tempo = \"\"\n",
    "\n",
    "lista_medias = []\n",
    "\n",
    "for corredor in dict_corrida.keys():\n",
    "    soma_tempos = 0\n",
    "    for tempo in dict_corrida[corredor]:\n",
    "        if tempo < melhor_tempo or melhor_tempo == 0:\n",
    "            melhor_tempo = tempo\n",
    "            volta_melhor_tempo = dict_corrida[corredor].index(melhor_tempo) + 1\n",
    "            corredor_melhor_tempo = corredor\n",
    "        elif tempo == melhor_tempo:\n",
    "            corredor_melhor_tempo += \" \" + corredor\n",
    "        \n",
    "        soma_tempos += tempo\n",
    "    lista_medias.append([round(soma_tempos / 10, 1), corredor])\n",
    "\n",
    "# ordenacao do vetor com medias de tempo e seus respectivos corredores\n",
    "for i in range(len(lista_medias)):\n",
    "    for j in range(i + 1, len(lista_medias)):\n",
    "        if lista_medias[i][0] > lista_medias[j][0]:\n",
    "            lista_medias[i], lista_medias[j] = lista_medias[j], lista_medias[i]\n",
    "\n",
    "print(\"----RESULTADOS DA CORRIDA----\")\n",
    "print(f\"-Melhor volta:\\n {corredor_melhor_tempo}\\n {melhor_tempo} segundos\\n Volta {volta_melhor_tempo}\")\n",
    "print(f\"-Classificacao por media de tempo: \")\n",
    "for lista in lista_medias:\n",
    "    print(f\" -> {lista[1]}: {lista[0]}s\")\n"
   ]
  },
  {
   "cell_type": "code",
   "execution_count": null,
   "metadata": {},
   "outputs": [],
   "source": [
    "# exercicio 6"
   ]
  },
  {
   "cell_type": "code",
   "execution_count": null,
   "metadata": {},
   "outputs": [],
   "source": [
    "# exercicio"
   ]
  }
 ],
 "metadata": {
  "interpreter": {
   "hash": "916dbcbb3f70747c44a77c7bcd40155683ae19c65e1c03b4aa3499c5328201f1"
  },
  "kernelspec": {
   "display_name": "Python 3.10.4 64-bit",
   "language": "python",
   "name": "python3"
  },
  "language_info": {
   "codemirror_mode": {
    "name": "ipython",
    "version": 3
   },
   "file_extension": ".py",
   "mimetype": "text/x-python",
   "name": "python",
   "nbconvert_exporter": "python",
   "pygments_lexer": "ipython3",
   "version": "3.10.4"
  },
  "orig_nbformat": 4
 },
 "nbformat": 4,
 "nbformat_minor": 2
}
