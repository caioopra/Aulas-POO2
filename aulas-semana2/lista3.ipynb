{
 "cells": [
  {
   "cell_type": "code",
   "execution_count": 11,
   "metadata": {},
   "outputs": [
    {
     "name": "stdout",
     "output_type": "stream",
     "text": [
      "{'escreva': 5, 'uma': 8, 'funcao': 2, 'que': 8, 'conta': 1, 'a': 16, 'frequencia': 1, 'de': 12, 'ocorrencia': 1, 'cada': 4, 'palavra': 1, 'em': 7, 'um': 13, 'texto': 1, 'arquivo': 1, 'txt': 1, 'e': 15, 'armazena': 2, 'tal': 1, 'quantidade': 1, 'onde': 3, 'chave': 6, 'vogal': 1, 'programa': 4, 'le': 1, 'duas': 3, 'notas': 2, 'varios': 1, 'alunos': 1, 'tais': 1, 'o': 6, 'nome': 3, 'do': 4, 'entrada': 1, 'dados': 1, 'deve': 3, 'terminar': 1, 'quando': 1, 'for': 1, 'lida': 1, 'string': 2, 'vazia': 1, 'como': 1, 'retorna': 3, 'media': 2, 'dado': 1, 'seu': 2, 'pista': 1, 'kart': 1, 'permite': 1, 'voltas': 1, 'para': 5, 'leia': 1, 'todos': 1, 'os': 2, 'tempos': 1, 'segundos': 1, 'guarde': 1, 'ao': 1, 'final': 2, 'diga': 1, 'quem': 1, 'foi': 1, 'melhor': 1, 'volta': 2, 'da': 2, 'prova': 1, 'ainda': 1, 'classificacao': 1, 'ordem': 1, 'campeao': 1, 'tem': 1, 'menor': 1, 'armazenar': 1, 'agenda': 1, 'telefones': 2, 'usando': 2, 'pessoa': 1, 'pode': 2, 'ter': 2, 'ou': 1, 'mais': 1, 'dicionario': 4, 'completo': 1, 'as': 1, 'seguintes': 1, 'criar': 1, 'frozensets': 1, 'com': 1, 'numeros': 1, 'aleatorios': 1, 'construir': 1, 'contenha': 2, 'soma': 1, 'deles': 1, 'mplemente': 1, 'classe': 2, 'meudicionario': 1, 'ser': 2, 'possivel': 1, 'remover': 1, 'acessar': 1, 'elementos': 1, 'no': 4, 'magic': 1, 'alem': 1, 'verificar': 1, 'se': 1, 'valor': 1, 'caso': 2, 'contrario': 1, 'crie': 1, 'matrizesparsa': 1, 'construida': 1, 'das': 1, 'formas': 1, 'metodos': 1, 'mostrar': 1, 'matriz': 1, 'formato': 2, 'tambem': 1}\n"
     ]
    }
   ],
   "source": [
    "# exercicio 1\n",
    "arquivo = open(\"exercicio1.txt\", \"r\")\n",
    "\n",
    "dict_palavras = {}\n",
    "\n",
    "for linha in arquivo:\n",
    "    for palavra in linha.split():\n",
    "        palavra = palavra.lower()\n",
    "        if palavra.isalpha():\n",
    "            if palavra not in dict_palavras:\n",
    "                dict_palavras[palavra] = 1\n",
    "            else:\n",
    "                dict_palavras[palavra] += 1\n",
    "            \n",
    "print(dict_palavras)\n",
    "            \n",
    "arquivo.close()               \n"
   ]
  },
  {
   "cell_type": "code",
   "execution_count": 6,
   "metadata": {},
   "outputs": [
    {
     "name": "stdout",
     "output_type": "stream",
     "text": [
      "Valor inválido!\n",
      "Média de Caio: 8.25\n",
      "Média de Maria: 9.5\n"
     ]
    }
   ],
   "source": [
    "# exercicio 3\n",
    "def calcular_media(nome):\n",
    "    notas = dicionario_alunos[nome]\n",
    "    \n",
    "    soma = 0\n",
    "    for nota in notas:\n",
    "        soma += nota\n",
    "\n",
    "    return round((soma / len(notas)), 2)\n",
    "\n",
    "\n",
    "dicionario_alunos = dict()\n",
    "# leitura de dados\n",
    "while True:\n",
    "    try:\n",
    "        nome_aluno = input(\"Nome: \").strip()\n",
    "        if nome_aluno == \"\":\n",
    "            break\n",
    "        nota1, nota2 = [float(x) for x in input(\n",
    "            \"Digite as duas notas [nota1 nota2]: \").split()]\n",
    "\n",
    "        dicionario_alunos[nome_aluno] = nota1, nota2\n",
    "    except ValueError:\n",
    "        print(\"Valor inválido!\")\n",
    "\n",
    "# caso string vazia for lida, encerra o programa\n",
    "while True:\n",
    "    aluno = input(\"Nome do aluno para calcular a media: \").strip()\n",
    "    if aluno == \"\":\n",
    "        break\n",
    "    elif aluno not in dicionario_alunos.keys():\n",
    "        print(\"Aluno não encontrado\")\n",
    "\n",
    "    print(f\"Média de {aluno}: {calcular_media(aluno)}\")\n"
   ]
  },
  {
   "cell_type": "code",
   "execution_count": null,
   "metadata": {},
   "outputs": [],
   "source": [
    "# exercicio 4\n"
   ]
  },
  {
   "cell_type": "code",
   "execution_count": null,
   "metadata": {},
   "outputs": [],
   "source": [
    "# exercicio 6"
   ]
  },
  {
   "cell_type": "code",
   "execution_count": null,
   "metadata": {},
   "outputs": [],
   "source": [
    "# exercicio"
   ]
  }
 ],
 "metadata": {
  "interpreter": {
   "hash": "26de051ba29f2982a8de78e945f0abaf191376122a1563185a90213a26c5da77"
  },
  "kernelspec": {
   "display_name": "Python 3.10.0 64-bit",
   "language": "python",
   "name": "python3"
  },
  "language_info": {
   "codemirror_mode": {
    "name": "ipython",
    "version": 3
   },
   "file_extension": ".py",
   "mimetype": "text/x-python",
   "name": "python",
   "nbconvert_exporter": "python",
   "pygments_lexer": "ipython3",
   "version": "3.10.0"
  },
  "orig_nbformat": 4
 },
 "nbformat": 4,
 "nbformat_minor": 2
}
