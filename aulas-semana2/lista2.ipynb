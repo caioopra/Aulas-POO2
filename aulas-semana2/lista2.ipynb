{
 "cells": [
  {
   "cell_type": "code",
   "execution_count": 7,
   "metadata": {},
   "outputs": [
    {
     "name": "stdout",
     "output_type": "stream",
     "text": [
      "Valor inválido\n",
      "[4, 1, 25, 6, 7]\n"
     ]
    }
   ],
   "source": [
    "# exercicio 1\n",
    "vetor = []\n",
    "count = 0\n",
    "\n",
    "while count != 5:\n",
    "    entrada = input(\"Valor: \")\n",
    "\n",
    "    try:\n",
    "        entrada = int(entrada)\n",
    "        vetor.append(int(entrada))\n",
    "        count += 1\n",
    "    except ValueError:\n",
    "        print(\"Valor inválido\")\n",
    "\n",
    "print(vetor)\n"
   ]
  },
  {
   "cell_type": "code",
   "execution_count": 8,
   "metadata": {},
   "outputs": [
    {
     "name": "stdout",
     "output_type": "stream",
     "text": [
      "[0.0, 9.0, 8.0, -2.0, 2.0, 1.0, 0.0, -13.4, 3123.5, 14.0]\n"
     ]
    }
   ],
   "source": [
    "# exercicio 2\n",
    "try:\n",
    "    vetor = [float(input()) for _ in range(10)]\n",
    "    print(vetor[::-1])\n",
    "except:\n",
    "    print(\"Valor inválido\")"
   ]
  },
  {
   "cell_type": "code",
   "execution_count": 8,
   "metadata": {},
   "outputs": [
    {
     "name": "stdout",
     "output_type": "stream",
     "text": [
      "Média: 7.5\n"
     ]
    }
   ],
   "source": [
    "# exercicio 3\n",
    "soma = 0\n",
    "for _ in range(4):\n",
    "    nota = float(input())\n",
    "    soma += nota\n",
    "\n",
    "print(\"Média:\", round(soma/4, 2))\n"
   ]
  },
  {
   "cell_type": "code",
   "execution_count": 10,
   "metadata": {},
   "outputs": [
    {
     "name": "stdout",
     "output_type": "stream",
     "text": [
      "8 consoantes foram lidas: ['b', 'h', 't', 'fg', 's', 'h', 'q', 'm']\n"
     ]
    }
   ],
   "source": [
    "# exercicio 4\n",
    "vogais = ['a', 'e', 'i', 'o', 'u']\n",
    "vetor = []\n",
    "vetor_consoantes = []\n",
    "\n",
    "for i in range(10):\n",
    "    entrada = input(\"Letra: \")\n",
    "    vetor.append(entrada)\n",
    "    \n",
    "    if entrada not in vogais:\n",
    "        vetor_consoantes.append(entrada)\n",
    "\n",
    "print(f\"{len(vetor_consoantes)} consoantes foram lidas: {vetor_consoantes}\")"
   ]
  },
  {
   "cell_type": "code",
   "execution_count": 12,
   "metadata": {},
   "outputs": [
    {
     "name": "stdout",
     "output_type": "stream",
     "text": [
      "Vetor: [4, 5, 123, 584, 2]\n",
      "Soma: 718 - Multiplicação: 2873280\n"
     ]
    }
   ],
   "source": [
    "# exercicio 7\n",
    "numeros = []\n",
    "soma = 0\n",
    "mult = 1\n",
    "\n",
    "for _ in range(5):\n",
    "    entrada = int(input())\n",
    "    numeros.append(entrada)\n",
    "    \n",
    "    soma += entrada\n",
    "    mult *= entrada\n",
    "\n",
    "print(\"Vetor:\", numeros)\n",
    "print(f\"Soma: {soma} - Multiplicação: {mult}\")"
   ]
  },
  {
   "cell_type": "code",
   "execution_count": 23,
   "metadata": {},
   "outputs": [
    {
     "name": "stdout",
     "output_type": "stream",
     "text": [
      "['88', '79', '48', '19', '20'] ['1.32', '1.44', '1.65', '1.75', '2.12']\n"
     ]
    }
   ],
   "source": [
    "# exercicio 8\n",
    "idades = []\n",
    "alturas = []\n",
    "\n",
    "for i in range(5):\n",
    "    idades.append(input(\"Idade \"))\n",
    "    alturas.append(input(\"Altura \"))\n",
    "\n",
    "print(idades[::-1], alturas[::-1])\n",
    "    "
   ]
  },
  {
   "cell_type": "code",
   "execution_count": 13,
   "metadata": {},
   "outputs": [
    {
     "name": "stdout",
     "output_type": "stream",
     "text": [
      "3067\n"
     ]
    }
   ],
   "source": [
    "# exericio 9\n",
    "soma_quadrada = 0\n",
    "vetor = []\n",
    "for _ in range(10):\n",
    "    entrada = int(input(\"Valor: \"))\n",
    "    soma_quadrada += entrada ** 2\n",
    "    vetor.append(entrada)\n",
    "print(soma_quadrada)"
   ]
  },
  {
   "cell_type": "code",
   "execution_count": 14,
   "metadata": {},
   "outputs": [
    {
     "name": "stdout",
     "output_type": "stream",
     "text": [
      "[1, 11, 2, 22, 3, 33, 4, 44, 5, 55, 6, 66, 7, 77, 8, 88, 9, 99, 0, 123]\n"
     ]
    }
   ],
   "source": [
    "# exercicio 10\n",
    "vetor1 = [int(input(\"Vetor 1: \")) for _ in range(10)]\n",
    "vetor2 = []\n",
    "vetor_20_elementos = []\n",
    "\n",
    "for i in range(10):\n",
    "    vetor_20_elementos.append(vetor1[i])\n",
    "    vetor2.append(int(input(\"Vetor 2: \")))\n",
    "    vetor_20_elementos.append(vetor2[i])\n",
    "\n",
    "print(vetor_20_elementos)"
   ]
  },
  {
   "cell_type": "code",
   "execution_count": 40,
   "metadata": {},
   "outputs": [
    {
     "name": "stdout",
     "output_type": "stream",
     "text": [
      "[1, 11, 111, 2, 22, 222, 3, 33, 333, 4, 44, 444, 5, 55, 555, 6, 66, 666, 7, 77, 777, 8, 88, 888, 9, 99, 999, 0, 0, 0]\n"
     ]
    }
   ],
   "source": [
    "# exercicio 11\n",
    "vetor1 = [int(input(\"Vetor 1: \")) for _ in range(10)]\n",
    "vetor2 = [int(input(\"Vetor 2: \")) for _ in range(10)]\n",
    "vetor3 = []\n",
    "vetor_30_elementos = []\n",
    "\n",
    "for i in range(10):\n",
    "    vetor_30_elementos.append(vetor1[i])\n",
    "    vetor_30_elementos.append(vetor2[i])\n",
    "    vetor3.append(int(input(\"Vetor 3: \")))\n",
    "    vetor_30_elementos.append(vetor3[i])\n",
    "\n",
    "print(vetor_30_elementos)"
   ]
  },
  {
   "cell_type": "code",
   "execution_count": 42,
   "metadata": {},
   "outputs": [
    {
     "name": "stdout",
     "output_type": "stream",
     "text": [
      "['Janeiro', 'Fevereiro', 'Março', 'Abril', 'Dezembro']\n"
     ]
    }
   ],
   "source": [
    "# exercicio 13\n",
    "temperaturas = []\n",
    "soma_temps = 0\n",
    "\n",
    "for i in range(12):\n",
    "    temperatura = float(input(f\"Temperatura {i+1}: \"))\n",
    "    temperaturas.append(temperatura)\n",
    "    soma_temps += temperatura\n",
    "\n",
    "media_temps = soma_temps / 12\n",
    "\n",
    "meses = [\"Janeiro\", \"Fevereiro\", \"Março\", \"Abril\", \"Maio\", \"Junho\",\n",
    "         \"Julho\", \"Agosto\", \"Setembro\", \"Outubro\", \"Novembro\", \"Dezembro\"]\n",
    "meses_temp_maior = []\n",
    "\n",
    "for j in range(12):\n",
    "    if temperaturas[j] > media_temps:\n",
    "        meses_temp_maior.append(meses[j])\n",
    "print(meses_temp_maior)\n"
   ]
  }
 ],
 "metadata": {
  "interpreter": {
   "hash": "26de051ba29f2982a8de78e945f0abaf191376122a1563185a90213a26c5da77"
  },
  "kernelspec": {
   "display_name": "Python 3.10.0 64-bit",
   "language": "python",
   "name": "python3"
  },
  "language_info": {
   "codemirror_mode": {
    "name": "ipython",
    "version": 3
   },
   "file_extension": ".py",
   "mimetype": "text/x-python",
   "name": "python",
   "nbconvert_exporter": "python",
   "pygments_lexer": "ipython3",
   "version": "3.10.0"
  },
  "orig_nbformat": 4
 },
 "nbformat": 4,
 "nbformat_minor": 2
}
